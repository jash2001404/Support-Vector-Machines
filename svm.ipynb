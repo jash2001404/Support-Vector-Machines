{
  "cells": [
    {
      "cell_type": "markdown",
      "metadata": {},
      "source": [
        "Copyright (c) 2022, Jash Vira\n",
        "All rights reserved.\n",
        "\n",
        "This source code is licensed under the BSD-style license found in the\n",
        "LICENSE file in the root directory of this source tree. "
      ]
    },
    {
      "cell_type": "code",
      "execution_count": 15,
      "metadata": {
        "id": "fpuLPnUiMXdM"
      },
      "outputs": [],
      "source": [
        "import numpy as np\n",
        "import cvxpy as cp\n",
        "import cvxopt\n",
        "import matplotlib.pyplot as plt\n",
        "from sklearn.datasets import make_blobs\n",
        "from sklearn.svm import LinearSVC\n",
        "from sklearn.metrics import classification_report"
      ]
    },
    {
      "cell_type": "markdown",
      "metadata": {
        "id": "a9Wpck8qxo86"
      },
      "source": [
        "Splitting data into train and validation.\n",
        "\\\n",
        "Test data is provided seperately.\n",
        "\\\n",
        "Regularisation parameter *c* is set to 100."
      ]
    },
    {
      "cell_type": "code",
      "execution_count": 16,
      "metadata": {
        "id": "wPk6t0wW33ci"
      },
      "outputs": [],
      "source": [
        "data = np.loadtxt('train.csv', delimiter=',')\n",
        "training_data = data[0:4000, :]\n",
        "y_train = training_data[:, 0]\n",
        "y_train = (y_train *2)-1\n",
        "x_train = training_data[:,1:]\n",
        "\n",
        "validation_data = data[-4500:, :]\n",
        "y_validation = validation_data[:, 0]\n",
        "y_validation = (y_validation *2)-1\n",
        "x_validation = validation_data[:,1:]\n",
        "\n",
        "testing_data = np.loadtxt('test.csv', delimiter=',')\n",
        "y_test = testing_data[:, 0]\n",
        "y_test = (y_test *2)-1\n",
        "x_test = testing_data[:,1:]\n",
        "c = 100\n"
      ]
    },
    {
      "cell_type": "markdown",
      "metadata": {
        "id": "6vMhonTWyRQW"
      },
      "source": [
        "Algorithm for primal form using CVXPY."
      ]
    },
    {
      "cell_type": "code",
      "execution_count": 17,
      "metadata": {
        "colab": {
          "base_uri": "https://localhost:8080/"
        },
        "id": "jeAnP5tKPJi6",
        "outputId": "3a737928-a4af-48d3-ac9e-ef20cced5ae8"
      },
      "outputs": [
        {
          "name": "stdout",
          "output_type": "stream",
          "text": [
            "Accuracy: 0.968\n",
            "Value of b: 1.7798137171000277\n",
            "Number of support vectors: 392\n",
            "Sum of w: -0.1452156803626381\n"
          ]
        }
      ],
      "source": [
        "def svm_predict_primal(test_data, test_labels, model):\n",
        "  w = model[0]\n",
        "  intercept = model[1]  \n",
        "  correct = 0\n",
        "  for i in range(len(test_data)):\n",
        "    if test_labels[i] == 1:\n",
        "      if (w.T).dot(test_data[i]) + intercept > 0:\n",
        "        correct += 1\n",
        "    else:\n",
        "      if (w.T).dot(test_data[i]) + intercept <= 0:\n",
        "        correct += 1\n",
        "  return correct/len(test_data)\n",
        "\n",
        "def svm_train_primal(data_train , label_train , regularisation_para_C):\n",
        "  x = data_train\n",
        "  y = label_train\n",
        "  c = regularisation_para_C\n",
        "  m,n = x.shape\n",
        "  W = cp.Variable((n,1))\n",
        "  Psi = cp.Variable((m,1))\n",
        "  b = cp.Variable()\n",
        "\n",
        "  # Solving for primal problem\n",
        "  objective_primal = cp.Minimize((1/2)*cp.square(cp.norm(W))+ ((c/m)* cp.sum(Psi)))\n",
        "  constraints_primal=[]\n",
        "  for i in range(m):\n",
        "    constraints_primal.extend([y[i]*(W.T@x[i]+b)+Psi[i]>=1,Psi[i]>=0])\n",
        "\n",
        "  prob = cp.Problem(objective_primal, constraints_primal)\n",
        "  prob.solve()\n",
        "\n",
        "  w_values = np.array(W.value)\n",
        "  b_value = b.value\n",
        "  Psi = np.array(Psi.value)\n",
        "  sup_vec_index = []\n",
        "  threshold = 1e-4\n",
        "\n",
        "  # Obtaining support vectors, collab RAM crashes if np.where() is used.\n",
        "  for i in range(m):\n",
        "    predicted_values = np.dot(w_values.T,x[i])+b_value\n",
        "    if ((y[i]*predicted_values)-1+Psi[i] < threshold):\n",
        "        sup_vec_index.append(i)\n",
        "\n",
        "  primal_support_vec = x[sup_vec_index]\n",
        "  return (w_values.flatten(), b_value), len(primal_support_vec)\n",
        "\n",
        "# Training and prediction\n",
        "model, len_of_primal_support_vec = svm_train_primal(x_train,y_train,c)\n",
        "ans = svm_predict_primal(x_test,y_test,model)\n",
        "\n",
        "# Printing results\n",
        "print(\"Accuracy: \"+ str(ans))\n",
        "print(\"Value of b: \"+ str(model[1]))\n",
        "print(\"Number of support vectors: \"+ str(len_of_primal_support_vec))\n",
        "print(\"Sum of w: \"+ str(np.sum(model[0])))"
      ]
    },
    {
      "cell_type": "markdown",
      "metadata": {
        "id": "jqjkV6Nvytge"
      },
      "source": [
        "Algorithm for dual form using CVXOPT."
      ]
    },
    {
      "cell_type": "code",
      "execution_count": 18,
      "metadata": {
        "colab": {
          "base_uri": "https://localhost:8080/"
        },
        "id": "n02VLLRwtDkM",
        "outputId": "89527c32-d09c-4252-a01a-6a53aaa67930"
      },
      "outputs": [
        {
          "name": "stdout",
          "output_type": "stream",
          "text": [
            "Accuracy: 0.9686666666666667\n",
            "Average of b: 1.7389327654668092\n",
            "Number of support vectors: 392\n",
            "Sum of alphas: 7.281637057117689\n",
            "Sum of w: -0.1451352273951918\n"
          ]
        }
      ],
      "source": [
        "def svm_predict_dual(x,y,w,b):\n",
        "  correct = 0\n",
        "  length = x.shape[0]\n",
        "  for i in range(length):\n",
        "    y_pred = np.sign(np.dot(np.array(x[i]), w)+b)[0]\n",
        "    if y_pred == y[i]:\n",
        "      correct+=1\n",
        "  return correct/length\n",
        "\n",
        "def svm_train_dual(X, y, slack):\n",
        "  m,n = X.shape\n",
        "  y = y.reshape(-1, 1) * 1\n",
        "  H = (np.outer(y,y)* np.dot(X,X.T))\n",
        "  P = cvxopt.matrix(H)\n",
        "  q = cvxopt.matrix(-np.ones((m,1)))\n",
        "  tmp1 = np.eye(m) * -1\n",
        "  tmp2 = np.eye(m)\n",
        "  G = cvxopt.matrix(np.concatenate((tmp1, tmp2),axis=0))\n",
        "  tmp1 = np.zeros((m,1))\n",
        "  tmp2 = np.ones((m,1)) * slack/m\n",
        "  h = cvxopt.matrix(np.concatenate((tmp1, tmp2),axis=0))\n",
        "  A = cvxopt.matrix(y.reshape(1, -1))\n",
        "  b = cvxopt.matrix(0.0)\n",
        "  \n",
        "  # Solving dual form.\n",
        "  cvxopt.solvers.options['show_progress'] = False\n",
        "  sol = cvxopt.solvers.qp(P, q, G, h, A, b)\n",
        "  alphas = np.array(sol['x'])\n",
        "  threshold = 1e-4\n",
        "  \n",
        "  # Obtaining w,b and support vectors from alpha.\n",
        "  w = ((y * alphas).T @ X).reshape(-1,1)\n",
        "  support_vecs = np.where(((alphas <= slack/m) & (alphas >= threshold)))[0]\n",
        "  b = y[support_vecs] - np.dot(X[support_vecs], w)\n",
        "  \n",
        "  return w, np.average(b), support_vecs, np.sum(alphas)\n",
        "\n",
        "# Training and prediction\n",
        "w_dual, b_dual, support_vectors, alphas_sum = svm_train_dual(x_train,y_train,c)\n",
        "ans = svm_predict_dual(x_test,y_test,w_dual, b_dual)\n",
        "\n",
        "# Printing results\n",
        "print(\"Accuracy: \" + str(ans))\n",
        "print(\"Average of b: \" + str(b_dual))\n",
        "print(\"Number of support vectors: \" + str(len(support_vectors)))\n",
        "print(\"Sum of alphas: \" + str(alphas_sum))\n",
        "print(\"Sum of w: \" + str(np.sum(w_dual)))"
      ]
    },
    {
      "cell_type": "markdown",
      "metadata": {
        "id": "1JXpJpeRy-ve"
      },
      "source": [
        "Primal form is used to find the optimal *c* value.\n",
        "\\\n",
        "*c* values tried are in the `best_c` array."
      ]
    },
    {
      "cell_type": "code",
      "execution_count": 20,
      "metadata": {
        "colab": {
          "base_uri": "https://localhost:8080/"
        },
        "id": "j1LrXjX9cKKC",
        "outputId": "e9ecc901-107e-46d0-f442-96d2ecd5fc14"
      },
      "outputs": [
        {
          "name": "stdout",
          "output_type": "stream",
          "text": [
            "4.0\n"
          ]
        }
      ],
      "source": [
        "best_c = np.arange(-10,11,2)\n",
        "accuracy_values = []\n",
        "for i in best_c:\n",
        "  model, len_of_primal_support_vec = svm_train_primal(x_train,y_train,2.0**i)\n",
        "  accuracy_values.append(svm_predict_primal(x_validation, y_validation, model))\n",
        "\n",
        "print(2.0**(best_c[np.argmax(accuracy_values)]))"
      ]
    },
    {
      "cell_type": "markdown",
      "metadata": {
        "id": "5h1jO0iby941"
      },
      "source": [
        "Scikit-learn SVM used with the optimal *c* value found in the step above.\n",
        "\n"
      ]
    },
    {
      "cell_type": "code",
      "execution_count": 21,
      "metadata": {
        "colab": {
          "base_uri": "https://localhost:8080/"
        },
        "id": "CcnDSgTjmi-D",
        "outputId": "52ba1574-eab2-47d6-faaa-bfee4f58dede"
      },
      "outputs": [
        {
          "name": "stdout",
          "output_type": "stream",
          "text": [
            "Accuracy: 0.9713333333333334\n"
          ]
        }
      ],
      "source": [
        "svc = LinearSVC(C=4, dual=False, tol=1e-4)\n",
        "svc.fit(x_train, y_train)\n",
        "\n",
        "y_pred = svc.predict(x_test)\n",
        "print(\"Accuracy: \" + str(svc.score(x_test,y_test)))"
      ]
    }
  ],
  "metadata": {
    "colab": {
      "collapsed_sections": [],
      "provenance": []
    },
    "kernelspec": {
      "display_name": "Python 3",
      "name": "python3"
    },
    "language_info": {
      "name": "python"
    },
    "orig_nbformat": 4
  },
  "nbformat": 4,
  "nbformat_minor": 0
}
